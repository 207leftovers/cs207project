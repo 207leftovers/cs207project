{
 "cells": [
  {
   "cell_type": "code",
   "execution_count": 1,
   "metadata": {
    "collapsed": false
   },
   "outputs": [],
   "source": [
    "#Required for making unique id's and keeping track of nodes\n",
    "import uuid\n",
    "import numpy as np\n",
    "import graphviz as gv"
   ]
  },
  {
   "cell_type": "code",
   "execution_count": 2,
   "metadata": {
    "collapsed": false
   },
   "outputs": [],
   "source": [
    "class vpnode():\n",
    "    def __init__(self):\n",
    "        self.parent = None\n",
    "        self.leftChild = None\n",
    "        self.rightChild = None\n",
    "\n",
    "    #Using preorder in a similar way as the lab\n",
    "    #returns a list and not a generator object\n",
    "\n",
    "    def preorder(self):\n",
    "        if self.rightChild == None and self.leftChild == None:\n",
    "            return [(self, None, None)]\n",
    "        else:\n",
    "            return [(self, self.leftChild, self.rightChild)] + self.leftChild.preorder() +\\\n",
    "                    self.rightChild.preorder()\n",
    "\n",
    "\n",
    "#Since a VP tree has two kind of nodes - non-leaf nodes with vantage points and leaf nodes with closest possible candidates.\n",
    "\n",
    "class vpnodeVP(vpnode):\n",
    "    \"\"\"\n",
    "    Intermediate nodes with vantage points\n",
    "    \"\"\"\n",
    "    def __init__(self, uid, pk, median, leftChild, rightChild):\n",
    "        \"\"\"\n",
    "        pk - future input from timeseries\n",
    "           - currently the id for the test timeseries\n",
    "        \"\"\"\n",
    "        #Inheriting from the base class\n",
    "        super().__init__()\n",
    "        self.uid = uid\n",
    "        self.pk = pk\n",
    "        self.median = median\n",
    "        self.leftChild = leftChild\n",
    "        self.rightChild = rightChild\n",
    "\n",
    "\n",
    "class vpnodeLeaf(vpnode):\n",
    "    \"\"\"\n",
    "    Leaf nodes with primary key lists with the closest matches\n",
    "    \"\"\"\n",
    "    def __init__(self, uid, pkList):\n",
    "        super().__init__()\n",
    "        self.uid = uid\n",
    "        self.pkList = pkList\n",
    "\n",
    "\n",
    "#Building the tree class\n",
    "class vptree():\n",
    "    \"\"\"\n",
    "    Main tree class\n",
    "    \"\"\"\n",
    "\n",
    "    def __init__(self, allPk, vpList, dfunc):\n",
    "        \"\"\"\n",
    "        allPK - List of all primary keys\n",
    "        vpList - List of vantage points\n",
    "        dfunc - distance function\n",
    "        \"\"\"\n",
    "        self.vpList = vpList\n",
    "        self.dfunc = dfunc\n",
    "        self.root = self.maketree(allPk, vpList)\n",
    "    \n",
    "    def maketree(self, allPk, vpList):\n",
    "        #Making an id for the node:\n",
    "        uid = uuid.uuid4().int % 10000\n",
    "\n",
    "        #checking if there are vantage points left\n",
    "        #if we have none left, its just the vpnodeLeaf node\n",
    "        if vpList == []:\n",
    "            return vpnodeLeaf(uid, allPk)\n",
    "\n",
    "        else:\n",
    "            #Decide how to pick vantage point\n",
    "            #Currently using random selection\n",
    "            index = np.random.choice(range(len(vpList)))\n",
    "            VP = vpList[index]\n",
    "            #Computing distance for all points\n",
    "            VPdist = self.dfunc(VP, allPk)\n",
    "            median = np.median(VPdist)\n",
    "\n",
    "            #Assigning if left or right\n",
    "            #initializing empty lists\n",
    "            left_PK, left_VP, right_PK, right_VP = [], [], [], []\n",
    "            for key, dist in zip(allPk, VPdist):\n",
    "                if dist < median : #assigning left\n",
    "                    left_PK.append(key)\n",
    "                    if key in vpList and key != VP:\n",
    "                        #add the key to vantage key list\n",
    "                        left_VP.append(key)\n",
    "\n",
    "                else:\n",
    "                    right_PK.append(key)\n",
    "                    if key in vpList and key != VP:\n",
    "                        #add key to vantage key list\n",
    "                        right_VP.append(key)\n",
    "\n",
    "            leftChild = self.maketree(left_PK, left_VP)\n",
    "            rightChild = self.maketree(right_PK, right_VP)\n",
    "\n",
    "            #creating root node\n",
    "            node = vpnodeVP(uid, VP, median, leftChild, rightChild)\n",
    "            #setting parents\n",
    "            rightChild.parent = node\n",
    "            leftChild.parent = node\n",
    "            return node\n",
    "        \n",
    "    def gen_graph(self):\n",
    "        \"\"\"\n",
    "        Visualize the tree\n",
    "        \"\"\"\n",
    "        graph = gv.Digraph(format='svg')\n",
    "        for parent, leftChild, rightChild in self.root.preorder():\n",
    "            if isinstance(parent,vpnodeLeaf):\n",
    "                graph.node(str(parent.uid), \"Leaf:: \"+str(parent.pkList))\n",
    "            if isinstance(parent,vpnodeVP):\n",
    "                graph.node(str(parent.uid), \"\"\"Vantage point:: Key={} medianDist = {:3.3f}\n",
    "                                        \"\"\".format(parent.pk, parent.median))\n",
    "                graph.edge(str(parent.uid), str(leftChild.uid))\n",
    "                graph.edge(str(parent.uid), str(rightChild.uid))\n",
    "        return graph\n",
    "    \n",
    "    def gen_subset(self, search_val, dfunc):\n",
    "        \"\"\"Get the subset of nodes that can be the closest to this argument\n",
    "        INPUT \n",
    "        search_val - search value\n",
    "        dfunc - distance function\n",
    "        \"\"\"\n",
    "\n",
    "        current = self.root\n",
    "        while not isinstance(current,vpnodeLeaf):\n",
    "            d = dfunc(current.pk, search_val)\n",
    "            if d > current.median:\n",
    "                current = current.rightChild\n",
    "            else:\n",
    "                current = current.leftChild\n",
    "        return current.pkList"
   ]
  },
  {
   "cell_type": "code",
   "execution_count": 3,
   "metadata": {
    "collapsed": false
   },
   "outputs": [],
   "source": [
    "data = np.random.rand(200) \n",
    "dataDict = {}\n",
    "for i in range(len(data)):\n",
    "    dataDict['key'+str(i+1)] = data[i]\n",
    "allPk = list(dataDict.keys())\n",
    "testvps = ['key7', 'key10', 'key45', 'key73']\n",
    "#creating distance function\n",
    "def absdist(VP,allPk):\n",
    "    \"\"\"\n",
    "    Implementing basic absolute distance function\n",
    "    \"\"\"\n",
    "    x = dataDict[VP]\n",
    "    y = np.array([dataDict[key] for key in allPk])\n",
    "    return np.abs(x-y)\n",
    "tree = vptree(allPk, testvps, absdist)"
   ]
  },
  {
   "cell_type": "code",
   "execution_count": 4,
   "metadata": {
    "collapsed": false,
    "scrolled": true
   },
   "outputs": [
    {
     "data": {
      "text/plain": [
       "'vptree.gv.svg'"
      ]
     },
     "execution_count": 4,
     "metadata": {},
     "output_type": "execute_result"
    }
   ],
   "source": [
    "vpt = tree.gen_graph()\n",
    "vpt.render(\"vptree.gv\")"
   ]
  },
  {
   "cell_type": "code",
   "execution_count": 5,
   "metadata": {
    "collapsed": true
   },
   "outputs": [],
   "source": [
    "def dist(vp,arg):\n",
    "    x = dataDict[vp]\n",
    "    return np.abs(x-arg)"
   ]
  },
  {
   "cell_type": "code",
   "execution_count": 6,
   "metadata": {
    "collapsed": false
   },
   "outputs": [],
   "source": [
    "search_val = np.random.normal(0,5)\n",
    "allDists = np.array([np.abs(search_val - dataDict[p]) for p in allPk])\n",
    "subset = tree.gen_subset(search_val,dist)\n",
    "closest = min(allPk, key = lambda k:allDists[allPk.index(k)])"
   ]
  },
  {
   "cell_type": "code",
   "execution_count": 8,
   "metadata": {
    "collapsed": true
   },
   "outputs": [],
   "source": [
    "assert closest in subset"
   ]
  },
  {
   "cell_type": "code",
   "execution_count": null,
   "metadata": {
    "collapsed": true
   },
   "outputs": [],
   "source": []
  }
 ],
 "metadata": {
  "kernelspec": {
   "display_name": "Python 3",
   "language": "python",
   "name": "python3"
  },
  "language_info": {
   "codemirror_mode": {
    "name": "ipython",
    "version": 3
   },
   "file_extension": ".py",
   "mimetype": "text/x-python",
   "name": "python",
   "nbconvert_exporter": "python",
   "pygments_lexer": "ipython3",
   "version": "3.5.1"
  }
 },
 "nbformat": 4,
 "nbformat_minor": 0
}
